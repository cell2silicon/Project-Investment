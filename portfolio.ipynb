{
 "cells": [
  {
   "cell_type": "code",
   "execution_count": 83,
   "id": "db982805",
   "metadata": {},
   "outputs": [],
   "source": [
    "# Import Splinter, BeautifulSoup and Pandas\n",
    "from splinter import Browser\n",
    "from bs4 import BeautifulSoup as soup\n",
    "import pandas as pd \n",
    "from webdriver_manager.chrome import ChromeDriverManager\n",
    "import time"
   ]
  },
  {
   "cell_type": "code",
   "execution_count": 84,
   "id": "5d4478a1",
   "metadata": {},
   "outputs": [
    {
     "name": "stderr",
     "output_type": "stream",
     "text": [
      "\n",
      "\n",
      "====== WebDriver manager ======\n",
      "Current google-chrome version is 94.0.4606\n",
      "Get LATEST driver version for 94.0.4606\n",
      "Driver [/Users/jsb/.wdm/drivers/chromedriver/mac64/94.0.4606.61/chromedriver] found in cache\n"
     ]
    }
   ],
   "source": [
    "# Set up Splinter\n",
    "executable_path = {\"executable_path\" : ChromeDriverManager().install()} \n",
    "browser = Browser(\"chrome\", **executable_path, headless=False) \n",
    "url = \"https://www.investing.com\" \n",
    "browser.visit(url)"
   ]
  },
  {
   "cell_type": "code",
   "execution_count": 85,
   "id": "3dd8d52c",
   "metadata": {},
   "outputs": [
    {
     "name": "stdout",
     "output_type": "stream",
     "text": [
      "S&P 500 \n",
      "4,471.37+0.75%\n",
      "\n"
     ]
    }
   ],
   "source": [
    "html = browser.html\n",
    "index_soup = soup(html,\"html.parser\")\n",
    "index_snp = index_soup.find_all(\"div\", class_=\"quotesBarContentCellTop\")[0].get_text()\n",
    "price_snp = index_soup.find_all(\"div\", class_=\"quotesBarContentCellBottom\")[0].get_text()\n",
    "print(index_snp,price_snp)"
   ]
  },
  {
   "cell_type": "code",
   "execution_count": 86,
   "id": "908b77f0",
   "metadata": {},
   "outputs": [
    {
     "name": "stdout",
     "output_type": "stream",
     "text": [
      "Gold \n",
      "1,770.60+0.13%\n",
      "\n"
     ]
    }
   ],
   "source": [
    "index_gold = index_soup.find_all(\"div\", class_=\"quotesBarContentCellTop\")[2].get_text()\n",
    "price_gold = index_soup.find_all(\"div\", class_=\"quotesBarContentCellBottom\")[2].get_text()\n",
    "print(index_gold,price_gold)"
   ]
  },
  {
   "cell_type": "code",
   "execution_count": 87,
   "id": "e5a02ed0",
   "metadata": {},
   "outputs": [
    {
     "name": "stdout",
     "output_type": "stream",
     "text": [
      "U.S. 10Y \n",
      "1.584+0.53%\n",
      "\n"
     ]
    }
   ],
   "source": [
    "index_usb = index_soup.find_all(\"div\", class_=\"quotesBarContentCellTop\")[6].get_text()\n",
    "price_usb = index_soup.find_all(\"div\", class_=\"quotesBarContentCellBottom\")[6].get_text()\n",
    "print(index_usb,price_usb)"
   ]
  },
  {
   "cell_type": "code",
   "execution_count": 88,
   "id": "c36acfb1",
   "metadata": {},
   "outputs": [],
   "source": [
    "url = \"https://www.investing.com/crypto/\" \n",
    "browser.visit(url)"
   ]
  },
  {
   "cell_type": "code",
   "execution_count": 89,
   "id": "7cc38c4a",
   "metadata": {},
   "outputs": [
    {
     "name": "stdout",
     "output_type": "stream",
     "text": [
      "Bitcoin \n",
      " 62,267.1 -1.17%\n"
     ]
    }
   ],
   "source": [
    "html = browser.html\n",
    "crypto_soup = soup(html,\"html.parser\")\n",
    "index_bit = crypto_soup.find_all(\"td\", class_=\"left bold elp name cryptoName first js-currency-name\")[0].get_text()\n",
    "price_bit = crypto_soup.find_all(\"td\", class_=\"price js-currency-price\")[0].get_text()\n",
    "print(index_bit, '\\n',price_bit, change_bit)"
   ]
  },
  {
   "cell_type": "code",
   "execution_count": 93,
   "id": "5eb63567",
   "metadata": {},
   "outputs": [
    {
     "name": "stdout",
     "output_type": "stream",
     "text": [
      "Ethereum \n",
      " 3,880.05 -0.46%\n"
     ]
    }
   ],
   "source": [
    "index_ete = crypto_soup.find_all(\"td\", class_=\"left bold elp name cryptoName first js-currency-name\")[1].get_text()\n",
    "price_ete = crypto_soup.find_all(\"td\", class_=\"price js-currency-price\")[1].get_text()\n",
    "print(index_ete, '\\n',price_ete, change_ete)"
   ]
  },
  {
   "cell_type": "code",
   "execution_count": null,
   "id": "4954740d",
   "metadata": {},
   "outputs": [],
   "source": []
  }
 ],
 "metadata": {
  "kernelspec": {
   "display_name": "Python [conda env:PythonData]",
   "language": "python",
   "name": "conda-env-PythonData-py"
  },
  "language_info": {
   "codemirror_mode": {
    "name": "ipython",
    "version": 3
   },
   "file_extension": ".py",
   "mimetype": "text/x-python",
   "name": "python",
   "nbconvert_exporter": "python",
   "pygments_lexer": "ipython3",
   "version": "3.6.10"
  }
 },
 "nbformat": 4,
 "nbformat_minor": 5
}
